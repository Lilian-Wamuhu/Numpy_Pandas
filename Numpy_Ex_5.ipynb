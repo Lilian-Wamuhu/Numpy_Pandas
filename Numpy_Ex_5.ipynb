{
  "nbformat": 4,
  "nbformat_minor": 0,
  "metadata": {
    "colab": {
      "provenance": [],
      "authorship_tag": "ABX9TyMh2dvDl36JD7x4MmNE4Sfy",
      "include_colab_link": true
    },
    "kernelspec": {
      "name": "python3",
      "display_name": "Python 3"
    },
    "language_info": {
      "name": "python"
    }
  },
  "cells": [
    {
      "cell_type": "markdown",
      "metadata": {
        "id": "view-in-github",
        "colab_type": "text"
      },
      "source": [
        "<a href=\"https://colab.research.google.com/github/Lilian-Wamuhu/Lilian-Wamuhu/blob/main/Numpy_Ex_5.ipynb\" target=\"_parent\"><img src=\"https://colab.research.google.com/assets/colab-badge.svg\" alt=\"Open In Colab\"/></a>"
      ]
    },
    {
      "cell_type": "code",
      "source": [
        "import numpy as np"
      ],
      "metadata": {
        "id": "srGTHnB9DqVu"
      },
      "execution_count": 2,
      "outputs": []
    },
    {
      "cell_type": "code",
      "execution_count": 3,
      "metadata": {
        "colab": {
          "base_uri": "https://localhost:8080/"
        },
        "id": "BLwCg9FQBPXU",
        "outputId": "10550443-b0ef-46ba-d897-79880bab6ad9"
      },
      "outputs": [
        {
          "output_type": "stream",
          "name": "stdout",
          "text": [
            "Original array:\n",
            "[ 0  1  2  3  4  5  6  7  8  9 10 11 12 13 14 15 16 17 18 19 20 21 22 23\n",
            " 24 25 26 27 28 29 30 31 32 33 34 35 36 37 38 39 40 41 42 43 44 45 46 47\n",
            " 48 49 50 51 52 53 54 55 56 57 58 59 60 61 62 63 64 65 66 67 68 69 70 71\n",
            " 72 73 74 75 76 77 78 79 80 81 82 83 84 85 86 87 88 89 90 91 92 93 94 95\n",
            " 96 97 98 99]\n",
            "Value to compare:\n",
            "2.3630750225964836\n",
            "2\n"
          ]
        }
      ],
      "source": [
        "#61. Find the nearest value from a given value in an array\n",
        "x = np.arange(100)\n",
        "print(\"Original array:\")\n",
        "print(x)\n",
        "a = np.random.uniform(0,100)\n",
        "print(\"Value to compare:\")\n",
        "print(a)\n",
        "index = (np.abs(x-a)).argmin()\n",
        "print(x[index])"
      ]
    },
    {
      "cell_type": "code",
      "source": [
        "#62. Considering two arrays with shape (1,3) and (3,1), how to compute their sum using an iterator? \n",
        "A = np.arange(3).reshape(3,1)\n",
        "B = np.arange(3).reshape(1,3)\n",
        "it = np.nditer([A,B,None])\n",
        "for x,y,z in it: z[...] = x + y\n",
        "print(it.operands[2])"
      ],
      "metadata": {
        "colab": {
          "base_uri": "https://localhost:8080/"
        },
        "id": "8e0MzQx3Ba1H",
        "outputId": "62e11afd-a816-49d3-b111-d6ab19df03c3"
      },
      "execution_count": 4,
      "outputs": [
        {
          "output_type": "stream",
          "name": "stdout",
          "text": [
            "[[0 1 2]\n",
            " [1 2 3]\n",
            " [2 3 4]]\n"
          ]
        }
      ]
    },
    {
      "cell_type": "code",
      "source": [
        "#63. Create an array class that has a name attribute \n",
        "class NamedArray(np.ndarray):\n",
        "    def __new__(cls, array, name=\"no name\"):\n",
        "        obj = np.asarray(array).view(cls)\n",
        "        obj.name = name\n",
        "        return obj\n",
        "    def __array_finalize__(self, obj):\n",
        "        if obj is None: return\n",
        "        self.name = getattr(obj, 'name', \"no name\")\n",
        "\n",
        "Z = NamedArray(np.arange(10), \"range_10\")\n",
        "print (Z.name)"
      ],
      "metadata": {
        "colab": {
          "base_uri": "https://localhost:8080/"
        },
        "id": "7dmC-QoRBa4R",
        "outputId": "e5bc7196-e876-4dca-f51e-26a40c9a7f71"
      },
      "execution_count": 5,
      "outputs": [
        {
          "output_type": "stream",
          "name": "stdout",
          "text": [
            "range_10\n"
          ]
        }
      ]
    },
    {
      "cell_type": "code",
      "source": [
        "#64. Consider a given vector, how to add 1 to each element indexed by a second vector (be careful with repeated indices)?\n",
        "Z = np.ones(10)\n",
        "I = np.random.randint(0,len(Z),20)\n",
        "Z += np.bincount(I, minlength=len(Z))\n",
        "print(Z)\n",
        "\n",
        "# Another solution\n",
        "np.add.at(Z, I, 1)\n",
        "print(Z)"
      ],
      "metadata": {
        "colab": {
          "base_uri": "https://localhost:8080/"
        },
        "id": "fM_wcp_DBa7h",
        "outputId": "ea4240ca-be78-4e76-c488-7c5118caa3b2"
      },
      "execution_count": 6,
      "outputs": [
        {
          "output_type": "stream",
          "name": "stdout",
          "text": [
            "[2. 4. 4. 4. 2. 4. 4. 2. 3. 1.]\n",
            "[3. 7. 7. 7. 3. 7. 7. 3. 5. 1.]\n"
          ]
        }
      ]
    },
    {
      "cell_type": "code",
      "source": [
        "#65. How to accumulate elements of a vector (X) to an array (F) based on an index list (I)? \n",
        "X = [1,2,3,4,5,6]\n",
        "I = [1,3,9,3,4,1]\n",
        "F = np.bincount(I,X)\n",
        "print(F)"
      ],
      "metadata": {
        "colab": {
          "base_uri": "https://localhost:8080/"
        },
        "id": "NDakNDMnBa-t",
        "outputId": "6626fc6f-1170-4b0a-fbfc-1dfb8b104e05"
      },
      "execution_count": 7,
      "outputs": [
        {
          "output_type": "stream",
          "name": "stdout",
          "text": [
            "[0. 7. 0. 6. 5. 0. 0. 0. 0. 3.]\n"
          ]
        }
      ]
    },
    {
      "cell_type": "code",
      "source": [
        "#66. Considering a (w,h,3) image of (dtype=ubyte), compute the number of unique colors\n",
        "w, h = 256, 256\n",
        "I = np.random.randint(0, 4, (h, w, 3)).astype(np.ubyte)\n",
        "colors = np.unique(I.reshape(-1, 3), axis=0)\n",
        "n = len(colors)\n",
        "print(n)"
      ],
      "metadata": {
        "colab": {
          "base_uri": "https://localhost:8080/"
        },
        "id": "1NzHu9GaBbDt",
        "outputId": "70ce9ae9-932e-4a79-87be-b1e31f1e6f2d"
      },
      "execution_count": 8,
      "outputs": [
        {
          "output_type": "stream",
          "name": "stdout",
          "text": [
            "64\n"
          ]
        }
      ]
    },
    {
      "cell_type": "code",
      "source": [
        "#67. Considering a four dimensions array, how to get sum over the last two axis at once?\n",
        "A = np.random.randint(0,10,(3,4,3,4))\n",
        "# solution by passing a tuple of axes\n",
        "print(sum)\n",
        "# solution by flattening the last two dimensions into one\n",
        "# (useful for functions that don't accept tuples for axis argument)\n",
        "sum = A.reshape(A.shape[:-2] + (-1,)).sum(axis=-1)\n",
        "print(sum)"
      ],
      "metadata": {
        "colab": {
          "base_uri": "https://localhost:8080/"
        },
        "id": "pUJYOk_wBbHP",
        "outputId": "4275b41f-5025-40e8-abb4-fc7b7dbdb1be"
      },
      "execution_count": 9,
      "outputs": [
        {
          "output_type": "stream",
          "name": "stdout",
          "text": [
            "<built-in function sum>\n",
            "[[42 62 41 55]\n",
            " [64 55 65 50]\n",
            " [50 44 36 74]]\n"
          ]
        }
      ]
    },
    {
      "cell_type": "code",
      "source": [
        "#68. Considering a one-dimensional vector D, how to compute means of subsets of D using a vector S of same size describing subset indices?\n",
        "D = np.random.uniform(0,1,100)\n",
        "S = np.random.randint(0,10,100)\n",
        "D_sums = np.bincount(S, weights=D)\n",
        "D_counts = np.bincount(S)\n",
        "D_means = D_sums / D_counts\n",
        "print(D_means)"
      ],
      "metadata": {
        "colab": {
          "base_uri": "https://localhost:8080/"
        },
        "id": "iSCT-4FUBbKO",
        "outputId": "4c58f5a4-dafc-4edd-a000-32676ea2310e"
      },
      "execution_count": 10,
      "outputs": [
        {
          "output_type": "stream",
          "name": "stdout",
          "text": [
            "[0.47004795 0.46906149 0.60593718 0.48919631 0.43850616 0.5674813\n",
            " 0.45242348 0.58586284 0.52775487 0.3573479 ]\n"
          ]
        }
      ]
    },
    {
      "cell_type": "code",
      "source": [
        "#69. How to get the diagonal of a dot product?\n",
        "A = np.random.uniform(0,1,(5,5))\n",
        "B = np.random.uniform(0,1,(5,5))\n",
        "np.diag(np.dot(A, B))"
      ],
      "metadata": {
        "colab": {
          "base_uri": "https://localhost:8080/"
        },
        "id": "AncM6UT0BbNR",
        "outputId": "b5af59af-67f5-4747-de84-fc9dac96f1fc"
      },
      "execution_count": 11,
      "outputs": [
        {
          "output_type": "execute_result",
          "data": {
            "text/plain": [
              "array([0.59589242, 0.6783311 , 0.61622452, 1.96773869, 1.43641379])"
            ]
          },
          "metadata": {},
          "execution_count": 11
        }
      ]
    },
    {
      "cell_type": "code",
      "source": [
        "#70. Consider the vector [1, 2, 3, 4, 5], how to build a new vector with 3 consecutive zeros interleaved between each value?\n",
        "Z = np.array([1,2,3,4,5])\n",
        "nz = 3\n",
        "Z0 = np.zeros(len(Z) + (len(Z)-1)*(nz))\n",
        "Z0[::nz+1] = Z\n",
        "print(Z0)"
      ],
      "metadata": {
        "colab": {
          "base_uri": "https://localhost:8080/"
        },
        "id": "4yK77y0hBbQX",
        "outputId": "d3d2a7d4-88c1-4dbf-f1f2-52dcfc810a68"
      },
      "execution_count": 12,
      "outputs": [
        {
          "output_type": "stream",
          "name": "stdout",
          "text": [
            "[1. 0. 0. 0. 2. 0. 0. 0. 3. 0. 0. 0. 4. 0. 0. 0. 5.]\n"
          ]
        }
      ]
    },
    {
      "cell_type": "code",
      "source": [
        "#71. Consider an array of dimension (5,5,3), how to mulitply it by an array with dimensions (5,5)? \n",
        "A = np.ones((5,5,3))\n",
        "B = 2*np.ones((5,5))\n",
        "print(A * B[:,:,None])"
      ],
      "metadata": {
        "colab": {
          "base_uri": "https://localhost:8080/"
        },
        "id": "6X0ircwpBbTb",
        "outputId": "e80dbdf9-4383-447c-9f0c-ea9187cbeec6"
      },
      "execution_count": 13,
      "outputs": [
        {
          "output_type": "stream",
          "name": "stdout",
          "text": [
            "[[[2. 2. 2.]\n",
            "  [2. 2. 2.]\n",
            "  [2. 2. 2.]\n",
            "  [2. 2. 2.]\n",
            "  [2. 2. 2.]]\n",
            "\n",
            " [[2. 2. 2.]\n",
            "  [2. 2. 2.]\n",
            "  [2. 2. 2.]\n",
            "  [2. 2. 2.]\n",
            "  [2. 2. 2.]]\n",
            "\n",
            " [[2. 2. 2.]\n",
            "  [2. 2. 2.]\n",
            "  [2. 2. 2.]\n",
            "  [2. 2. 2.]\n",
            "  [2. 2. 2.]]\n",
            "\n",
            " [[2. 2. 2.]\n",
            "  [2. 2. 2.]\n",
            "  [2. 2. 2.]\n",
            "  [2. 2. 2.]\n",
            "  [2. 2. 2.]]\n",
            "\n",
            " [[2. 2. 2.]\n",
            "  [2. 2. 2.]\n",
            "  [2. 2. 2.]\n",
            "  [2. 2. 2.]\n",
            "  [2. 2. 2.]]]\n"
          ]
        }
      ]
    },
    {
      "cell_type": "code",
      "source": [
        "#72. How to swap two rows of an array? \n",
        "A = np.arange(25).reshape(5,5)\n",
        "A[[0,1]] = A[[1,0]]\n",
        "print(A)"
      ],
      "metadata": {
        "colab": {
          "base_uri": "https://localhost:8080/"
        },
        "id": "EvvnyZ6yBbWa",
        "outputId": "e2f4211d-0051-42d5-dcb2-e7f3721d7462"
      },
      "execution_count": 14,
      "outputs": [
        {
          "output_type": "stream",
          "name": "stdout",
          "text": [
            "[[ 5  6  7  8  9]\n",
            " [ 0  1  2  3  4]\n",
            " [10 11 12 13 14]\n",
            " [15 16 17 18 19]\n",
            " [20 21 22 23 24]]\n"
          ]
        }
      ]
    },
    {
      "cell_type": "code",
      "source": [
        "#73. Consider a set of 10 triplets describing 10 triangles (with shared vertices), find the set of unique line segments composing all the triangles\n",
        "faces = np.random.randint(0,100,(10,3))\n",
        "F = np.roll(faces.repeat(2,axis=1),-1,axis=1)\n",
        "F = F.reshape(len(F)*3,2)\n",
        "F = np.sort(F,axis=1)\n",
        "G = F.view( dtype=[('p0',F.dtype),('p1',F.dtype)] )\n",
        "G = np.unique(G)\n",
        "print(G)"
      ],
      "metadata": {
        "colab": {
          "base_uri": "https://localhost:8080/"
        },
        "id": "GZRcx3qvBbZV",
        "outputId": "682a7155-6c05-4b19-80ef-c9db0aa55b8d"
      },
      "execution_count": 15,
      "outputs": [
        {
          "output_type": "stream",
          "name": "stdout",
          "text": [
            "[( 3,  8) ( 3, 50) ( 8, 50) (11, 35) (11, 63) (11, 74) (11, 88) (16, 38)\n",
            " (16, 59) (20, 41) (20, 77) (21, 40) (21, 56) (25, 28) (25, 69) (27, 52)\n",
            " (27, 55) (28, 69) (35, 88) (38, 59) (40, 56) (41, 45) (41, 52) (41, 77)\n",
            " (43, 68) (43, 92) (45, 52) (52, 55) (63, 74) (68, 92)]\n"
          ]
        }
      ]
    },
    {
      "cell_type": "code",
      "source": [
        "#74. Given a sorted array C that corresponds to a bincount, how to produce an array A such that np.bincount(A) == C? \n",
        "C = np.bincount([1,1,2,3,4,4,6])\n",
        "A = np.repeat(np.arange(len(C)), C)\n",
        "print(A)"
      ],
      "metadata": {
        "colab": {
          "base_uri": "https://localhost:8080/"
        },
        "id": "zNXHMYu6BbcX",
        "outputId": "6f576c70-6653-4ec6-b50f-56eb63293e02"
      },
      "execution_count": 16,
      "outputs": [
        {
          "output_type": "stream",
          "name": "stdout",
          "text": [
            "[1 1 2 3 4 4 6]\n"
          ]
        }
      ]
    },
    {
      "cell_type": "code",
      "source": [
        "#75. How to compute averages using a sliding window over an array?\n",
        "def moving_average(a, n=3) :\n",
        "    ret = np.cumsum(a, dtype=float)\n",
        "    ret[n:] = ret[n:] - ret[:-n]\n",
        "    return ret[n - 1:] / n\n",
        "Z = np.arange(20)\n",
        "print(moving_average(Z, n=3))"
      ],
      "metadata": {
        "colab": {
          "base_uri": "https://localhost:8080/"
        },
        "id": "G6sciOFrBbfR",
        "outputId": "07a77bc2-60c2-46c5-eaac-85a6431724e8"
      },
      "execution_count": 17,
      "outputs": [
        {
          "output_type": "stream",
          "name": "stdout",
          "text": [
            "[ 1.  2.  3.  4.  5.  6.  7.  8.  9. 10. 11. 12. 13. 14. 15. 16. 17. 18.]\n"
          ]
        }
      ]
    },
    {
      "cell_type": "code",
      "source": [
        "#76. Consider a one-dimensional array Z, build a two-dimensional array whose first row is (Z[0],Z[1],Z[2]) and each subsequent row is shifted by 1 (last row should be (Z[-3],Z[-2],Z[-1])\n",
        "from numpy.lib import stride_tricks\n",
        "\n",
        "def rolling(a, window):\n",
        "    shape = (a.size - window + 1, window)\n",
        "    strides = (a.strides[0], a.strides[0])\n",
        "    return stride_tricks.as_strided(a, shape=shape, strides=strides)\n",
        "Z = rolling(np.arange(10), 3)\n",
        "print(Z)"
      ],
      "metadata": {
        "colab": {
          "base_uri": "https://localhost:8080/"
        },
        "id": "UPgHX4ufBbid",
        "outputId": "4249cb4c-e588-4572-be8a-62136f91d253"
      },
      "execution_count": 18,
      "outputs": [
        {
          "output_type": "stream",
          "name": "stdout",
          "text": [
            "[[0 1 2]\n",
            " [1 2 3]\n",
            " [2 3 4]\n",
            " [3 4 5]\n",
            " [4 5 6]\n",
            " [5 6 7]\n",
            " [6 7 8]\n",
            " [7 8 9]]\n"
          ]
        }
      ]
    },
    {
      "cell_type": "code",
      "source": [
        "#77. How to negate a boolean, or to change the sign of a float inplace?\n",
        "Z = np.random.randint(0,2,100)\n",
        "np.logical_not(Z, out=Z)\n",
        "\n",
        "Z = np.random.uniform(-1.0,1.0,100)\n",
        "np.negative(Z, out=Z)"
      ],
      "metadata": {
        "colab": {
          "base_uri": "https://localhost:8080/"
        },
        "id": "Pwh55IiHBble",
        "outputId": "5ef8bf30-0d92-4e24-c90f-d42c6473e447"
      },
      "execution_count": 19,
      "outputs": [
        {
          "output_type": "execute_result",
          "data": {
            "text/plain": [
              "array([-0.16835186, -0.31883462, -0.92504291, -0.92401595,  0.31623431,\n",
              "       -0.64025953,  0.49357104,  0.14701859, -0.94537925, -0.74895142,\n",
              "        0.4536857 , -0.75512183,  0.63701493,  0.33060298, -0.81293886,\n",
              "        0.64579866, -0.22403908, -0.28551623,  0.33964521, -0.1645494 ,\n",
              "        0.13940715,  0.00131978, -0.09183157, -0.10653002, -0.38529398,\n",
              "        0.62714258, -0.59679374, -0.03769685, -0.65569018,  0.02173719,\n",
              "        0.12852431, -0.49969883, -0.65584689,  0.64094281,  0.46070882,\n",
              "        0.45470598, -0.90242275, -0.72321788, -0.25202839,  0.07258052,\n",
              "       -0.53621396, -0.4333846 ,  0.55030525, -0.81428844,  0.51715146,\n",
              "       -0.26897273, -0.20938283, -0.14003518,  0.14107768,  0.07871203,\n",
              "       -0.91621704, -0.47252898,  0.64485627,  0.78915166,  0.45166258,\n",
              "        0.87252194,  0.86675956, -0.84913994,  0.90100047,  0.69762704,\n",
              "       -0.69099144, -0.81988055,  0.79724651,  0.35932013, -0.2249909 ,\n",
              "       -0.47121099, -0.89412634,  0.68298122, -0.68408791,  0.74742137,\n",
              "       -0.33679097, -0.96092746, -0.30227463,  0.8775962 ,  0.81237556,\n",
              "        0.01567631,  0.76714492,  0.80216615, -0.0771761 , -0.57063384,\n",
              "       -0.46819761,  0.88093241, -0.07023511,  0.96950783,  0.464926  ,\n",
              "       -0.31608673,  0.92250093, -0.97766038,  0.20395069, -0.24018212,\n",
              "        0.24105574,  0.83721393, -0.70279777, -0.44209488, -0.18194605,\n",
              "        0.8654381 , -0.10470909, -0.95068772,  0.95944817,  0.09798752])"
            ]
          },
          "metadata": {},
          "execution_count": 19
        }
      ]
    },
    {
      "cell_type": "code",
      "source": [
        "#78. Consider 2 sets of points P0,P1 describing lines (2d) and a point p, how to compute distance from p to each line i (P0[i],P1[i])?\n",
        "def distance(P0, P1, p):\n",
        "    T = P1 - P0\n",
        "    L = (T**2).sum(axis=1)\n",
        "    U = -((P0[:,0]-p[...,0])*T[:,0] + (P0[:,1]-p[...,1])*T[:,1]) / L\n",
        "    U = U.reshape(len(U),1)\n",
        "    D = P0 + U*T - p\n",
        "    return np.sqrt((D**2).sum(axis=1))\n",
        "\n",
        "P0 = np.random.uniform(-10,10,(10,2))\n",
        "P1 = np.random.uniform(-10,10,(10,2))\n",
        "p  = np.random.uniform(-10,10,( 1,2))\n",
        "print(distance(P0, P1, p))"
      ],
      "metadata": {
        "colab": {
          "base_uri": "https://localhost:8080/"
        },
        "id": "v84mH-1LBbop",
        "outputId": "7be2aaa6-bc7b-4250-ccb7-ef84c9547bc5"
      },
      "execution_count": 20,
      "outputs": [
        {
          "output_type": "stream",
          "name": "stdout",
          "text": [
            "[13.20758154  2.31970519 13.99587963 11.14117537  4.74955105  2.59101501\n",
            "  1.37988638  5.23615943  3.113245    6.0426149 ]\n"
          ]
        }
      ]
    },
    {
      "cell_type": "code",
      "source": [
        "#79. Consider 2 sets of points P0,P1 describing lines (2d) and a set of points P, how to compute distance from each point j (P[j]) to each line i (P0[i],P1[i])?\n",
        "P0 = np.random.uniform(-10, 10, (10,2))\n",
        "P1 = np.random.uniform(-10,10,(10,2))\n",
        "p = np.random.uniform(-10, 10, (10,2))\n",
        "print(np.array([distance(P0,P1,p_i) for p_i in p])) "
      ],
      "metadata": {
        "colab": {
          "base_uri": "https://localhost:8080/"
        },
        "id": "xtfM1Rj2BbsP",
        "outputId": "049e4868-7812-4384-8acc-1820d22e6e77"
      },
      "execution_count": 21,
      "outputs": [
        {
          "output_type": "stream",
          "name": "stdout",
          "text": [
            "[[ 1.60875558 11.93704023  0.33963409 11.22259644 11.10945718  9.09142277\n",
            "   7.8858398  12.01412936  0.52071958  1.01022606]\n",
            " [ 5.21211601  7.8303124  11.10064298  9.23480219 15.31092922 11.51561362\n",
            "  11.08984118  8.63328892 17.38215464 14.10952698]\n",
            " [11.7695244   0.17546445 15.34884567  4.98419704  5.28811416  6.80839879\n",
            "   1.9839511   1.68077184  7.68356117  3.36898903]\n",
            " [ 3.64406987  6.73567944  4.75801617  8.62303574  6.61089598  6.7068841\n",
            "   8.31431999 10.85477011  1.53411198  1.73558684]\n",
            " [ 9.68593676  3.03497832 14.77698753  9.09144657 10.09352991 11.12994068\n",
            "   8.02936156  6.97900449 13.86674234  9.4710831 ]\n",
            " [11.19176836  1.01996032 15.28421283  6.45593845  6.81629353  8.34791738\n",
            "   4.04086715  3.5229025   9.77257496  5.38575258]\n",
            " [ 4.9114676   5.80881406  6.58548812  5.87865082  6.77023127  3.96122715\n",
            "   5.9968498   8.20253667  0.60340114  0.33261994]\n",
            " [11.14010464  0.53763769 12.30444633  3.95013864  0.75752609  2.31665224\n",
            "   7.8244206   8.12094387  1.89657603  4.71431156]\n",
            " [ 7.76866689 20.06971632  2.61516077  1.1523602  24.09773263  1.56031759\n",
            "   7.61709803  1.32718222 15.42753241 17.02861179]\n",
            " [ 0.06306808 10.21327123  0.80851816 11.70444268  9.05269382  9.66784221\n",
            "   9.43755306 13.07013492  2.22168136  1.01410054]]\n"
          ]
        }
      ]
    },
    {
      "cell_type": "code",
      "source": [
        "#80. Consider an arbitrary array, write a function that extract a subpart with a fixed shape and centered on a given element (pad with a fill value when necessary) \n",
        "Z = np.random.randint(0,10,(10,10))\n",
        "shape = (5,5)\n",
        "fill  = 0\n",
        "position = (1,1)\n",
        "\n",
        "R = np.ones(shape, dtype=Z.dtype)*fill\n",
        "P  = np.array(list(position)).astype(int)\n",
        "Rs = np.array(list(R.shape)).astype(int)\n",
        "Zs = np.array(list(Z.shape)).astype(int)\n",
        "\n",
        "R_start = np.zeros((len(shape),)).astype(int)\n",
        "R_stop  = np.array(list(shape)).astype(int)\n",
        "Z_start = (P-Rs//2)\n",
        "Z_stop  = (P+Rs//2)+Rs%2\n",
        "\n",
        "R_start = (R_start - np.minimum(Z_start,0)).tolist()\n",
        "Z_start = (np.maximum(Z_start,0)).tolist()\n",
        "R_stop = np.maximum(R_start, (R_stop - np.maximum(Z_stop-Zs,0))).tolist()\n",
        "Z_stop = (np.minimum(Z_stop,Zs)).tolist()\n",
        "\n",
        "r = [slice(start,stop) for start,stop in zip(R_start,R_stop)]\n",
        "z = [slice(start,stop) for start,stop in zip(Z_start,Z_stop)]\n",
        "R[r] = Z[z]\n",
        "print(Z)\n",
        "print(R)"
      ],
      "metadata": {
        "colab": {
          "base_uri": "https://localhost:8080/"
        },
        "id": "IdyWLSg0Bbvp",
        "outputId": "bec81b0d-4e8f-4439-c7f8-43090d128a8c"
      },
      "execution_count": 22,
      "outputs": [
        {
          "output_type": "stream",
          "name": "stdout",
          "text": [
            "[[7 2 8 7 3 3 5 8 4 0]\n",
            " [0 6 0 7 6 5 0 0 5 9]\n",
            " [1 5 1 6 0 8 6 9 6 4]\n",
            " [8 8 3 2 1 9 6 2 0 2]\n",
            " [4 2 2 1 0 7 6 4 9 0]\n",
            " [3 2 9 6 4 5 1 2 1 3]\n",
            " [4 7 2 2 1 6 5 3 7 1]\n",
            " [3 6 1 6 7 8 5 5 0 8]\n",
            " [5 4 8 1 1 3 6 7 8 0]\n",
            " [8 1 2 0 4 6 0 9 9 9]]\n",
            "[[0 0 0 0 0]\n",
            " [0 7 2 8 7]\n",
            " [0 0 6 0 7]\n",
            " [0 1 5 1 6]\n",
            " [0 8 8 3 2]]\n"
          ]
        },
        {
          "output_type": "stream",
          "name": "stderr",
          "text": [
            "<ipython-input-22-1bb9861e61a3>:24: FutureWarning: Using a non-tuple sequence for multidimensional indexing is deprecated; use `arr[tuple(seq)]` instead of `arr[seq]`. In the future this will be interpreted as an array index, `arr[np.array(seq)]`, which will result either in an error or a different result.\n",
            "  R[r] = Z[z]\n"
          ]
        }
      ]
    },
    {
      "cell_type": "code",
      "source": [
        "#81. Consider an array Z = [1,2,3,4,5,6,7,8,9,10,11,12,13,14], how to generate an array R = [[1,2,3,4], [2,3,4,5], [3,4,5,6], ..., [11,12,13,14]]?\n",
        "Z = np.arange(1,15,dtype=np.uint32)\n",
        "R = stride_tricks.as_strided(Z,(11,4),(4,4))\n",
        "print(R)"
      ],
      "metadata": {
        "colab": {
          "base_uri": "https://localhost:8080/"
        },
        "id": "2XeG_7XECc2S",
        "outputId": "fefc41e7-3f3e-4b5f-b5aa-3d71f241beee"
      },
      "execution_count": 23,
      "outputs": [
        {
          "output_type": "stream",
          "name": "stdout",
          "text": [
            "[[ 1  2  3  4]\n",
            " [ 2  3  4  5]\n",
            " [ 3  4  5  6]\n",
            " [ 4  5  6  7]\n",
            " [ 5  6  7  8]\n",
            " [ 6  7  8  9]\n",
            " [ 7  8  9 10]\n",
            " [ 8  9 10 11]\n",
            " [ 9 10 11 12]\n",
            " [10 11 12 13]\n",
            " [11 12 13 14]]\n"
          ]
        }
      ]
    },
    {
      "cell_type": "code",
      "source": [
        "#82. Compute a matrix rank\n",
        "Z = np.random.uniform(0,1,(10,10))\n",
        "rank = np.linalg.matrix_rank(Z)\n",
        "print(rank)"
      ],
      "metadata": {
        "colab": {
          "base_uri": "https://localhost:8080/"
        },
        "id": "3lh8I7N6Cc5q",
        "outputId": "1d8860ba-4f0c-416a-f3aa-b966698b2190"
      },
      "execution_count": 24,
      "outputs": [
        {
          "output_type": "stream",
          "name": "stdout",
          "text": [
            "10\n"
          ]
        }
      ]
    },
    {
      "cell_type": "code",
      "source": [
        "#83. How to find the most frequent value in an array?\n",
        "Z = np.random.randint(0,10,50)\n",
        "print(np.bincount(Z).argmax())"
      ],
      "metadata": {
        "colab": {
          "base_uri": "https://localhost:8080/"
        },
        "id": "4LU985DCCc8z",
        "outputId": "210a83d0-56a5-4c72-c304-3345122672fd"
      },
      "execution_count": 25,
      "outputs": [
        {
          "output_type": "stream",
          "name": "stdout",
          "text": [
            "2\n"
          ]
        }
      ]
    },
    {
      "cell_type": "code",
      "source": [
        "#84. Extract all the contiguous 3x3 blocks from a random 10x10 matrix \n",
        "Z = np.random.randint(0,5,(10,10))\n",
        "n = 3\n",
        "i = 1 + (Z.shape[0]-3)\n",
        "j = 1 + (Z.shape[1]-3)\n",
        "C = stride_tricks.as_strided(Z, shape=(i, j, n, n), strides=Z.strides + Z.strides)\n",
        "print(C)"
      ],
      "metadata": {
        "colab": {
          "base_uri": "https://localhost:8080/"
        },
        "id": "w8MnMoPtCc_6",
        "outputId": "496b6579-9acb-4cdc-ec0c-29d3c01d127c"
      },
      "execution_count": 26,
      "outputs": [
        {
          "output_type": "stream",
          "name": "stdout",
          "text": [
            "[[[[3 4 4]\n",
            "   [1 2 0]\n",
            "   [1 3 0]]\n",
            "\n",
            "  [[4 4 1]\n",
            "   [2 0 2]\n",
            "   [3 0 3]]\n",
            "\n",
            "  [[4 1 2]\n",
            "   [0 2 2]\n",
            "   [0 3 3]]\n",
            "\n",
            "  [[1 2 1]\n",
            "   [2 2 4]\n",
            "   [3 3 1]]\n",
            "\n",
            "  [[2 1 0]\n",
            "   [2 4 3]\n",
            "   [3 1 4]]\n",
            "\n",
            "  [[1 0 4]\n",
            "   [4 3 3]\n",
            "   [1 4 3]]\n",
            "\n",
            "  [[0 4 4]\n",
            "   [3 3 0]\n",
            "   [4 3 4]]\n",
            "\n",
            "  [[4 4 4]\n",
            "   [3 0 2]\n",
            "   [3 4 4]]]\n",
            "\n",
            "\n",
            " [[[1 2 0]\n",
            "   [1 3 0]\n",
            "   [0 4 2]]\n",
            "\n",
            "  [[2 0 2]\n",
            "   [3 0 3]\n",
            "   [4 2 3]]\n",
            "\n",
            "  [[0 2 2]\n",
            "   [0 3 3]\n",
            "   [2 3 2]]\n",
            "\n",
            "  [[2 2 4]\n",
            "   [3 3 1]\n",
            "   [3 2 2]]\n",
            "\n",
            "  [[2 4 3]\n",
            "   [3 1 4]\n",
            "   [2 2 2]]\n",
            "\n",
            "  [[4 3 3]\n",
            "   [1 4 3]\n",
            "   [2 2 3]]\n",
            "\n",
            "  [[3 3 0]\n",
            "   [4 3 4]\n",
            "   [2 3 0]]\n",
            "\n",
            "  [[3 0 2]\n",
            "   [3 4 4]\n",
            "   [3 0 2]]]\n",
            "\n",
            "\n",
            " [[[1 3 0]\n",
            "   [0 4 2]\n",
            "   [3 2 2]]\n",
            "\n",
            "  [[3 0 3]\n",
            "   [4 2 3]\n",
            "   [2 2 1]]\n",
            "\n",
            "  [[0 3 3]\n",
            "   [2 3 2]\n",
            "   [2 1 1]]\n",
            "\n",
            "  [[3 3 1]\n",
            "   [3 2 2]\n",
            "   [1 1 2]]\n",
            "\n",
            "  [[3 1 4]\n",
            "   [2 2 2]\n",
            "   [1 2 1]]\n",
            "\n",
            "  [[1 4 3]\n",
            "   [2 2 3]\n",
            "   [2 1 2]]\n",
            "\n",
            "  [[4 3 4]\n",
            "   [2 3 0]\n",
            "   [1 2 4]]\n",
            "\n",
            "  [[3 4 4]\n",
            "   [3 0 2]\n",
            "   [2 4 1]]]\n",
            "\n",
            "\n",
            " [[[0 4 2]\n",
            "   [3 2 2]\n",
            "   [4 4 0]]\n",
            "\n",
            "  [[4 2 3]\n",
            "   [2 2 1]\n",
            "   [4 0 2]]\n",
            "\n",
            "  [[2 3 2]\n",
            "   [2 1 1]\n",
            "   [0 2 1]]\n",
            "\n",
            "  [[3 2 2]\n",
            "   [1 1 2]\n",
            "   [2 1 2]]\n",
            "\n",
            "  [[2 2 2]\n",
            "   [1 2 1]\n",
            "   [1 2 4]]\n",
            "\n",
            "  [[2 2 3]\n",
            "   [2 1 2]\n",
            "   [2 4 4]]\n",
            "\n",
            "  [[2 3 0]\n",
            "   [1 2 4]\n",
            "   [4 4 4]]\n",
            "\n",
            "  [[3 0 2]\n",
            "   [2 4 1]\n",
            "   [4 4 4]]]\n",
            "\n",
            "\n",
            " [[[3 2 2]\n",
            "   [4 4 0]\n",
            "   [4 3 0]]\n",
            "\n",
            "  [[2 2 1]\n",
            "   [4 0 2]\n",
            "   [3 0 1]]\n",
            "\n",
            "  [[2 1 1]\n",
            "   [0 2 1]\n",
            "   [0 1 0]]\n",
            "\n",
            "  [[1 1 2]\n",
            "   [2 1 2]\n",
            "   [1 0 4]]\n",
            "\n",
            "  [[1 2 1]\n",
            "   [1 2 4]\n",
            "   [0 4 3]]\n",
            "\n",
            "  [[2 1 2]\n",
            "   [2 4 4]\n",
            "   [4 3 2]]\n",
            "\n",
            "  [[1 2 4]\n",
            "   [4 4 4]\n",
            "   [3 2 2]]\n",
            "\n",
            "  [[2 4 1]\n",
            "   [4 4 4]\n",
            "   [2 2 2]]]\n",
            "\n",
            "\n",
            " [[[4 4 0]\n",
            "   [4 3 0]\n",
            "   [0 0 3]]\n",
            "\n",
            "  [[4 0 2]\n",
            "   [3 0 1]\n",
            "   [0 3 0]]\n",
            "\n",
            "  [[0 2 1]\n",
            "   [0 1 0]\n",
            "   [3 0 1]]\n",
            "\n",
            "  [[2 1 2]\n",
            "   [1 0 4]\n",
            "   [0 1 2]]\n",
            "\n",
            "  [[1 2 4]\n",
            "   [0 4 3]\n",
            "   [1 2 3]]\n",
            "\n",
            "  [[2 4 4]\n",
            "   [4 3 2]\n",
            "   [2 3 2]]\n",
            "\n",
            "  [[4 4 4]\n",
            "   [3 2 2]\n",
            "   [3 2 0]]\n",
            "\n",
            "  [[4 4 4]\n",
            "   [2 2 2]\n",
            "   [2 0 4]]]\n",
            "\n",
            "\n",
            " [[[4 3 0]\n",
            "   [0 0 3]\n",
            "   [4 2 2]]\n",
            "\n",
            "  [[3 0 1]\n",
            "   [0 3 0]\n",
            "   [2 2 1]]\n",
            "\n",
            "  [[0 1 0]\n",
            "   [3 0 1]\n",
            "   [2 1 4]]\n",
            "\n",
            "  [[1 0 4]\n",
            "   [0 1 2]\n",
            "   [1 4 4]]\n",
            "\n",
            "  [[0 4 3]\n",
            "   [1 2 3]\n",
            "   [4 4 0]]\n",
            "\n",
            "  [[4 3 2]\n",
            "   [2 3 2]\n",
            "   [4 0 0]]\n",
            "\n",
            "  [[3 2 2]\n",
            "   [3 2 0]\n",
            "   [0 0 0]]\n",
            "\n",
            "  [[2 2 2]\n",
            "   [2 0 4]\n",
            "   [0 0 0]]]\n",
            "\n",
            "\n",
            " [[[0 0 3]\n",
            "   [4 2 2]\n",
            "   [1 3 3]]\n",
            "\n",
            "  [[0 3 0]\n",
            "   [2 2 1]\n",
            "   [3 3 0]]\n",
            "\n",
            "  [[3 0 1]\n",
            "   [2 1 4]\n",
            "   [3 0 4]]\n",
            "\n",
            "  [[0 1 2]\n",
            "   [1 4 4]\n",
            "   [0 4 4]]\n",
            "\n",
            "  [[1 2 3]\n",
            "   [4 4 0]\n",
            "   [4 4 2]]\n",
            "\n",
            "  [[2 3 2]\n",
            "   [4 0 0]\n",
            "   [4 2 2]]\n",
            "\n",
            "  [[3 2 0]\n",
            "   [0 0 0]\n",
            "   [2 2 0]]\n",
            "\n",
            "  [[2 0 4]\n",
            "   [0 0 0]\n",
            "   [2 0 3]]]]\n"
          ]
        }
      ]
    },
    {
      "cell_type": "code",
      "source": [
        "#85. Create a 2D array subclass such that Z[i,j] == Z[j,i]\n",
        "Z = np.random.randint(0,5,(10,10))\n",
        "n = 3\n",
        "i = 1 + (Z.shape[0]-3)\n",
        "j = 1 + (Z.shape[1]-3)\n",
        "C = stride_tricks.as_strided(Z, shape=(i, j, n, n), strides=Z.strides + Z.strides)\n",
        "print(C)"
      ],
      "metadata": {
        "colab": {
          "base_uri": "https://localhost:8080/"
        },
        "id": "0dBzsvPkCdC8",
        "outputId": "d5241c00-59cb-4880-d23e-8fca878feb8e"
      },
      "execution_count": 27,
      "outputs": [
        {
          "output_type": "stream",
          "name": "stdout",
          "text": [
            "[[[[3 1 1]\n",
            "   [2 0 0]\n",
            "   [3 0 0]]\n",
            "\n",
            "  [[1 1 3]\n",
            "   [0 0 1]\n",
            "   [0 0 4]]\n",
            "\n",
            "  [[1 3 0]\n",
            "   [0 1 3]\n",
            "   [0 4 1]]\n",
            "\n",
            "  [[3 0 3]\n",
            "   [1 3 3]\n",
            "   [4 1 2]]\n",
            "\n",
            "  [[0 3 4]\n",
            "   [3 3 0]\n",
            "   [1 2 3]]\n",
            "\n",
            "  [[3 4 2]\n",
            "   [3 0 1]\n",
            "   [2 3 4]]\n",
            "\n",
            "  [[4 2 1]\n",
            "   [0 1 1]\n",
            "   [3 4 0]]\n",
            "\n",
            "  [[2 1 0]\n",
            "   [1 1 0]\n",
            "   [4 0 4]]]\n",
            "\n",
            "\n",
            " [[[2 0 0]\n",
            "   [3 0 0]\n",
            "   [2 4 1]]\n",
            "\n",
            "  [[0 0 1]\n",
            "   [0 0 4]\n",
            "   [4 1 3]]\n",
            "\n",
            "  [[0 1 3]\n",
            "   [0 4 1]\n",
            "   [1 3 2]]\n",
            "\n",
            "  [[1 3 3]\n",
            "   [4 1 2]\n",
            "   [3 2 3]]\n",
            "\n",
            "  [[3 3 0]\n",
            "   [1 2 3]\n",
            "   [2 3 1]]\n",
            "\n",
            "  [[3 0 1]\n",
            "   [2 3 4]\n",
            "   [3 1 1]]\n",
            "\n",
            "  [[0 1 1]\n",
            "   [3 4 0]\n",
            "   [1 1 3]]\n",
            "\n",
            "  [[1 1 0]\n",
            "   [4 0 4]\n",
            "   [1 3 1]]]\n",
            "\n",
            "\n",
            " [[[3 0 0]\n",
            "   [2 4 1]\n",
            "   [2 3 1]]\n",
            "\n",
            "  [[0 0 4]\n",
            "   [4 1 3]\n",
            "   [3 1 1]]\n",
            "\n",
            "  [[0 4 1]\n",
            "   [1 3 2]\n",
            "   [1 1 1]]\n",
            "\n",
            "  [[4 1 2]\n",
            "   [3 2 3]\n",
            "   [1 1 1]]\n",
            "\n",
            "  [[1 2 3]\n",
            "   [2 3 1]\n",
            "   [1 1 4]]\n",
            "\n",
            "  [[2 3 4]\n",
            "   [3 1 1]\n",
            "   [1 4 2]]\n",
            "\n",
            "  [[3 4 0]\n",
            "   [1 1 3]\n",
            "   [4 2 1]]\n",
            "\n",
            "  [[4 0 4]\n",
            "   [1 3 1]\n",
            "   [2 1 4]]]\n",
            "\n",
            "\n",
            " [[[2 4 1]\n",
            "   [2 3 1]\n",
            "   [4 0 1]]\n",
            "\n",
            "  [[4 1 3]\n",
            "   [3 1 1]\n",
            "   [0 1 1]]\n",
            "\n",
            "  [[1 3 2]\n",
            "   [1 1 1]\n",
            "   [1 1 4]]\n",
            "\n",
            "  [[3 2 3]\n",
            "   [1 1 1]\n",
            "   [1 4 1]]\n",
            "\n",
            "  [[2 3 1]\n",
            "   [1 1 4]\n",
            "   [4 1 2]]\n",
            "\n",
            "  [[3 1 1]\n",
            "   [1 4 2]\n",
            "   [1 2 4]]\n",
            "\n",
            "  [[1 1 3]\n",
            "   [4 2 1]\n",
            "   [2 4 3]]\n",
            "\n",
            "  [[1 3 1]\n",
            "   [2 1 4]\n",
            "   [4 3 0]]]\n",
            "\n",
            "\n",
            " [[[2 3 1]\n",
            "   [4 0 1]\n",
            "   [3 1 3]]\n",
            "\n",
            "  [[3 1 1]\n",
            "   [0 1 1]\n",
            "   [1 3 2]]\n",
            "\n",
            "  [[1 1 1]\n",
            "   [1 1 4]\n",
            "   [3 2 2]]\n",
            "\n",
            "  [[1 1 1]\n",
            "   [1 4 1]\n",
            "   [2 2 3]]\n",
            "\n",
            "  [[1 1 4]\n",
            "   [4 1 2]\n",
            "   [2 3 2]]\n",
            "\n",
            "  [[1 4 2]\n",
            "   [1 2 4]\n",
            "   [3 2 0]]\n",
            "\n",
            "  [[4 2 1]\n",
            "   [2 4 3]\n",
            "   [2 0 3]]\n",
            "\n",
            "  [[2 1 4]\n",
            "   [4 3 0]\n",
            "   [0 3 3]]]\n",
            "\n",
            "\n",
            " [[[4 0 1]\n",
            "   [3 1 3]\n",
            "   [1 3 0]]\n",
            "\n",
            "  [[0 1 1]\n",
            "   [1 3 2]\n",
            "   [3 0 2]]\n",
            "\n",
            "  [[1 1 4]\n",
            "   [3 2 2]\n",
            "   [0 2 2]]\n",
            "\n",
            "  [[1 4 1]\n",
            "   [2 2 3]\n",
            "   [2 2 1]]\n",
            "\n",
            "  [[4 1 2]\n",
            "   [2 3 2]\n",
            "   [2 1 1]]\n",
            "\n",
            "  [[1 2 4]\n",
            "   [3 2 0]\n",
            "   [1 1 2]]\n",
            "\n",
            "  [[2 4 3]\n",
            "   [2 0 3]\n",
            "   [1 2 2]]\n",
            "\n",
            "  [[4 3 0]\n",
            "   [0 3 3]\n",
            "   [2 2 1]]]\n",
            "\n",
            "\n",
            " [[[3 1 3]\n",
            "   [1 3 0]\n",
            "   [3 0 4]]\n",
            "\n",
            "  [[1 3 2]\n",
            "   [3 0 2]\n",
            "   [0 4 2]]\n",
            "\n",
            "  [[3 2 2]\n",
            "   [0 2 2]\n",
            "   [4 2 2]]\n",
            "\n",
            "  [[2 2 3]\n",
            "   [2 2 1]\n",
            "   [2 2 0]]\n",
            "\n",
            "  [[2 3 2]\n",
            "   [2 1 1]\n",
            "   [2 0 4]]\n",
            "\n",
            "  [[3 2 0]\n",
            "   [1 1 2]\n",
            "   [0 4 0]]\n",
            "\n",
            "  [[2 0 3]\n",
            "   [1 2 2]\n",
            "   [4 0 2]]\n",
            "\n",
            "  [[0 3 3]\n",
            "   [2 2 1]\n",
            "   [0 2 3]]]\n",
            "\n",
            "\n",
            " [[[1 3 0]\n",
            "   [3 0 4]\n",
            "   [3 4 2]]\n",
            "\n",
            "  [[3 0 2]\n",
            "   [0 4 2]\n",
            "   [4 2 4]]\n",
            "\n",
            "  [[0 2 2]\n",
            "   [4 2 2]\n",
            "   [2 4 0]]\n",
            "\n",
            "  [[2 2 1]\n",
            "   [2 2 0]\n",
            "   [4 0 2]]\n",
            "\n",
            "  [[2 1 1]\n",
            "   [2 0 4]\n",
            "   [0 2 0]]\n",
            "\n",
            "  [[1 1 2]\n",
            "   [0 4 0]\n",
            "   [2 0 4]]\n",
            "\n",
            "  [[1 2 2]\n",
            "   [4 0 2]\n",
            "   [0 4 0]]\n",
            "\n",
            "  [[2 2 1]\n",
            "   [0 2 3]\n",
            "   [4 0 1]]]]\n"
          ]
        }
      ]
    },
    {
      "cell_type": "code",
      "source": [
        "#86. Consider a set of p matrices wich shape (n,n) and a set of p vectors with shape (n,1). How to compute the sum of of the p matrix products at once? (result has shape (n,1))\n",
        "p, n = 10, 20\n",
        "M = np.ones((p,n,n))\n",
        "V = np.ones((p,n,1))\n",
        "S = np.tensordot(M, V, axes=[[0, 2], [0, 1]])\n",
        "print(S)"
      ],
      "metadata": {
        "colab": {
          "base_uri": "https://localhost:8080/"
        },
        "id": "DlMc6h7kCdGJ",
        "outputId": "a6fb34a0-fbcc-46a0-f06f-af2a9f419a49"
      },
      "execution_count": 28,
      "outputs": [
        {
          "output_type": "stream",
          "name": "stdout",
          "text": [
            "[[200.]\n",
            " [200.]\n",
            " [200.]\n",
            " [200.]\n",
            " [200.]\n",
            " [200.]\n",
            " [200.]\n",
            " [200.]\n",
            " [200.]\n",
            " [200.]\n",
            " [200.]\n",
            " [200.]\n",
            " [200.]\n",
            " [200.]\n",
            " [200.]\n",
            " [200.]\n",
            " [200.]\n",
            " [200.]\n",
            " [200.]\n",
            " [200.]]\n"
          ]
        }
      ]
    },
    {
      "cell_type": "code",
      "source": [
        "#87. Consider a 16x16 array, how to get the block-sum (block size is 4x4)? \n",
        "Z = np.ones((16,16))\n",
        "k = 4\n",
        "S = np.add.reduceat(np.add.reduceat(Z, np.arange(0, Z.shape[0], k), axis=0),np.arange(0, Z.shape[1], k), axis=1)\n",
        "print(S)"
      ],
      "metadata": {
        "colab": {
          "base_uri": "https://localhost:8080/"
        },
        "id": "n7fjjnnDCdJY",
        "outputId": "7b9d69ec-688a-48c9-f632-d90b36de5dbb"
      },
      "execution_count": 29,
      "outputs": [
        {
          "output_type": "stream",
          "name": "stdout",
          "text": [
            "[[16. 16. 16. 16.]\n",
            " [16. 16. 16. 16.]\n",
            " [16. 16. 16. 16.]\n",
            " [16. 16. 16. 16.]]\n"
          ]
        }
      ]
    },
    {
      "cell_type": "code",
      "source": [
        "#88. How to implement the Game of Life using numpy arrays? \n",
        "def iterate(Z):\n",
        "    # Count neighbours\n",
        "    N = (Z[0:-2,0:-2] + Z[0:-2,1:-1] + Z[0:-2,2:] +\n",
        "         Z[1:-1,0:-2]                + Z[1:-1,2:] +\n",
        "         Z[2:  ,0:-2] + Z[2:  ,1:-1] + Z[2:  ,2:])\n",
        "\n",
        "    # Apply rules\n",
        "    birth = (N==3) & (Z[1:-1,1:-1]==0)\n",
        "    survive = ((N==2) | (N==3)) & (Z[1:-1,1:-1]==1)\n",
        "    Z[...] = 0\n",
        "    Z[1:-1,1:-1][birth | survive] = 1\n",
        "    return Z\n",
        "\n",
        "Z = np.random.randint(0,2,(50,50))\n",
        "for i in range(100): Z = iterate(Z)\n",
        "print(Z)"
      ],
      "metadata": {
        "colab": {
          "base_uri": "https://localhost:8080/"
        },
        "id": "5i19-JivCdMK",
        "outputId": "1ca93a68-ca6d-4598-eb98-effbd239673a"
      },
      "execution_count": 30,
      "outputs": [
        {
          "output_type": "stream",
          "name": "stdout",
          "text": [
            "[[0 0 0 ... 0 0 0]\n",
            " [0 0 0 ... 0 0 0]\n",
            " [0 0 0 ... 0 0 0]\n",
            " ...\n",
            " [0 0 0 ... 1 0 0]\n",
            " [0 0 0 ... 1 0 0]\n",
            " [0 0 0 ... 0 0 0]]\n"
          ]
        }
      ]
    },
    {
      "cell_type": "code",
      "source": [
        "#89. How to get the n largest values of an array \n",
        "Z = np.arange(10000)\n",
        "np.random.shuffle(Z)\n",
        "n = 5\n",
        "print (Z[np.argpartition(-Z,n)[:n]])"
      ],
      "metadata": {
        "colab": {
          "base_uri": "https://localhost:8080/"
        },
        "id": "NpjfAg6ACdO7",
        "outputId": "6bfc069d-d3e5-42d1-c276-09e8e004edd1"
      },
      "execution_count": 31,
      "outputs": [
        {
          "output_type": "stream",
          "name": "stdout",
          "text": [
            "[9999 9997 9996 9998 9995]\n"
          ]
        }
      ]
    },
    {
      "cell_type": "code",
      "source": [
        "#90. Given an arbitrary number of vectors, build the cartesian product (every combinations of every item) \n",
        "def cartesian(arrays):\n",
        "    arrays = [np.asarray(a) for a in arrays]\n",
        "    shape = (len(x) for x in arrays)\n",
        "\n",
        "    ix = np.indices(shape, dtype=int)\n",
        "    ix = ix.reshape(len(arrays), -1).T\n",
        "\n",
        "    for n, arr in enumerate(arrays):\n",
        "        ix[:, n] = arrays[n][ix[:, n]]\n",
        "\n",
        "    return ix\n",
        "\n",
        "print (cartesian(([1, 2, 3], [4, 5], [6, 7])))"
      ],
      "metadata": {
        "colab": {
          "base_uri": "https://localhost:8080/"
        },
        "id": "ZieKxoLAC4YS",
        "outputId": "8bdc0ba4-ade8-4085-b6c2-222a206607df"
      },
      "execution_count": 32,
      "outputs": [
        {
          "output_type": "stream",
          "name": "stdout",
          "text": [
            "[[1 4 6]\n",
            " [1 4 7]\n",
            " [1 5 6]\n",
            " [1 5 7]\n",
            " [2 4 6]\n",
            " [2 4 7]\n",
            " [2 5 6]\n",
            " [2 5 7]\n",
            " [3 4 6]\n",
            " [3 4 7]\n",
            " [3 5 6]\n",
            " [3 5 7]]\n"
          ]
        }
      ]
    },
    {
      "cell_type": "code",
      "source": [
        "#91. How to create a record array from a regular array? \n",
        "Z = np.array([(\"Hello\", 2.5, 3),\n",
        "              (\"World\", 3.6, 2)])\n",
        "R = np.core.records.fromarrays(Z.T,names='col1, col2, col3',formats = 'S8, f8, i8')\n",
        "print(R)"
      ],
      "metadata": {
        "colab": {
          "base_uri": "https://localhost:8080/"
        },
        "id": "21_m37muC4bX",
        "outputId": "bc97fc59-daa1-470d-d962-cae2edaf2975"
      },
      "execution_count": 34,
      "outputs": [
        {
          "output_type": "stream",
          "name": "stdout",
          "text": [
            "[(b'Hello', 2.5, 3) (b'World', 3.6, 2)]\n"
          ]
        }
      ]
    },
    {
      "cell_type": "code",
      "source": [
        "#92. Consider a large vector Z, compute Z to the power of 3 using 3 different methods \n",
        "x = np.random.rand(int(5e7))\n",
        "\n",
        "%timeit np.power(x,3)\n",
        "%timeit x*x*x\n",
        "%timeit np.einsum('i,i,i->i',x,x,x)"
      ],
      "metadata": {
        "colab": {
          "base_uri": "https://localhost:8080/"
        },
        "id": "sXshiOiJC4eh",
        "outputId": "75833fcd-f9ad-4b6b-91b9-c6e89b47e1db"
      },
      "execution_count": 35,
      "outputs": [
        {
          "output_type": "stream",
          "name": "stdout",
          "text": [
            "1.71 s ± 492 ms per loop (mean ± std. dev. of 7 runs, 1 loop each)\n",
            "297 ms ± 53.4 ms per loop (mean ± std. dev. of 7 runs, 1 loop each)\n",
            "277 ms ± 29.6 ms per loop (mean ± std. dev. of 7 runs, 10 loops each)\n"
          ]
        }
      ]
    },
    {
      "cell_type": "code",
      "source": [
        "#93. Consider two arrays A and B of shape (8,3) and (2,2). How to find rows of A that contain elements of each row of B regardless of the order of the elements in B?\n",
        "A = np.random.randint(0,5,(8,3))\n",
        "B = np.random.randint(0,5,(2,2))\n",
        "\n",
        "C = (A[..., np.newaxis, np.newaxis] == B)\n",
        "rows = np.where(C.any((3,1)).all(1))[0]\n",
        "print(rows) "
      ],
      "metadata": {
        "colab": {
          "base_uri": "https://localhost:8080/"
        },
        "id": "x6qmRI3bC4hk",
        "outputId": "9fd94b7f-0119-4b47-c26e-8251b21734c9"
      },
      "execution_count": 36,
      "outputs": [
        {
          "output_type": "stream",
          "name": "stdout",
          "text": [
            "[0 2 5]\n"
          ]
        }
      ]
    },
    {
      "cell_type": "code",
      "source": [
        "#94. Considering a 10x3 matrix, extract rows with unequal values (e.g. [2,2,3])\n",
        "Z = np.random.randint(0,5,(10,3))\n",
        "print(Z)\n",
        "# solution for arrays of all dtypes (including string arrays and record arrays)\n",
        "E = np.all(Z[:,1:] == Z[:,:-1], axis=1)\n",
        "U = Z[~E]\n",
        "print(U)\n",
        "# soluiton for numerical arrays only, will work for any number of columns in Z\n",
        "U = Z[Z.max(axis=1) != Z.min(axis=1),:]\n",
        "print(U)"
      ],
      "metadata": {
        "colab": {
          "base_uri": "https://localhost:8080/"
        },
        "id": "2-3tnMaLC4kn",
        "outputId": "dfac8ccb-d364-437e-a16c-31493714a60a"
      },
      "execution_count": 39,
      "outputs": [
        {
          "output_type": "stream",
          "name": "stdout",
          "text": [
            "[[3 1 4]\n",
            " [1 3 2]\n",
            " [4 4 2]\n",
            " [1 1 0]\n",
            " [4 2 3]\n",
            " [2 0 1]\n",
            " [4 2 0]\n",
            " [1 4 2]\n",
            " [2 4 3]\n",
            " [1 2 4]]\n",
            "[[3 1 4]\n",
            " [1 3 2]\n",
            " [4 4 2]\n",
            " [1 1 0]\n",
            " [4 2 3]\n",
            " [2 0 1]\n",
            " [4 2 0]\n",
            " [1 4 2]\n",
            " [2 4 3]\n",
            " [1 2 4]]\n",
            "[[3 1 4]\n",
            " [1 3 2]\n",
            " [4 4 2]\n",
            " [1 1 0]\n",
            " [4 2 3]\n",
            " [2 0 1]\n",
            " [4 2 0]\n",
            " [1 4 2]\n",
            " [2 4 3]\n",
            " [1 2 4]]\n"
          ]
        }
      ]
    },
    {
      "cell_type": "code",
      "source": [
        "#95. Convert a vector of ints into a matrix binary representation \n",
        "I = np.array([0, 1, 2, 3, 15, 16, 32, 64, 128])\n",
        "B = ((I.reshape(-1,1) & (2**np.arange(8))) != 0).astype(int)\n",
        "print(B[:,::-1])"
      ],
      "metadata": {
        "colab": {
          "base_uri": "https://localhost:8080/"
        },
        "id": "4GkGBMm1C4nx",
        "outputId": "eda9b4c9-12b3-470c-e16d-746a87a7a4c9"
      },
      "execution_count": 40,
      "outputs": [
        {
          "output_type": "stream",
          "name": "stdout",
          "text": [
            "[[0 0 0 0 0 0 0 0]\n",
            " [0 0 0 0 0 0 0 1]\n",
            " [0 0 0 0 0 0 1 0]\n",
            " [0 0 0 0 0 0 1 1]\n",
            " [0 0 0 0 1 1 1 1]\n",
            " [0 0 0 1 0 0 0 0]\n",
            " [0 0 1 0 0 0 0 0]\n",
            " [0 1 0 0 0 0 0 0]\n",
            " [1 0 0 0 0 0 0 0]]\n"
          ]
        }
      ]
    },
    {
      "cell_type": "code",
      "source": [
        "#96. Given a two dimensional array, how to extract unique rows? \n",
        "Z = np.random.randint(0,2,(6,3))\n",
        "T = np.ascontiguousarray(Z).view(np.dtype((np.void, Z.dtype.itemsize * Z.shape[1])))\n",
        "_, idx = np.unique(T, return_index=True)\n",
        "uZ = Z[idx]\n",
        "print(uZ)"
      ],
      "metadata": {
        "colab": {
          "base_uri": "https://localhost:8080/"
        },
        "id": "H1PJPmHZC4q7",
        "outputId": "7a8f53aa-4bc9-48af-8e98-e5f482e68cf9"
      },
      "execution_count": 43,
      "outputs": [
        {
          "output_type": "stream",
          "name": "stdout",
          "text": [
            "[[0 0 1]\n",
            " [0 1 0]\n",
            " [1 0 0]\n",
            " [1 0 1]\n",
            " [1 1 0]]\n"
          ]
        }
      ]
    },
    {
      "cell_type": "code",
      "source": [
        "#97. Considering 2 vectors A & B, write the einsum equivalent of inner, outer, sum, and mul function \n",
        "A = np.random.uniform(0,1,10)\n",
        "B = np.random.uniform(0,1,10)\n",
        "\n",
        "np.einsum('i->', A)       # np.sum(A)\n",
        "np.einsum('i,i->i', A, B) # A * B\n",
        "np.einsum('i,i', A, B)    # np.inner(A, B)\n",
        "np.einsum('i,j->ij', A, B)    # np.outer(A, B)"
      ],
      "metadata": {
        "colab": {
          "base_uri": "https://localhost:8080/"
        },
        "id": "hiEEGH6XC4t9",
        "outputId": "f12d05d6-e512-4e97-e4d2-76d81948cb24"
      },
      "execution_count": 44,
      "outputs": [
        {
          "output_type": "execute_result",
          "data": {
            "text/plain": [
              "array([[0.02482367, 0.19923328, 0.16120956, 0.22438513, 0.10059945,\n",
              "        0.2638875 , 0.11503528, 0.36931681, 0.36526301, 0.02682501],\n",
              "       [0.02127136, 0.17072265, 0.1381402 , 0.19227523, 0.08620349,\n",
              "        0.22612474, 0.09857353, 0.31646694, 0.31299325, 0.02298631],\n",
              "       [0.02942636, 0.23617422, 0.19110033, 0.26598962, 0.11925215,\n",
              "        0.31281634, 0.13636461, 0.43779389, 0.43298846, 0.03179879],\n",
              "       [0.03496585, 0.28063382, 0.2270748 , 0.31606194, 0.14170126,\n",
              "        0.37170375, 0.16203513, 0.52020821, 0.51449816, 0.03778488],\n",
              "       [0.02524441, 0.20261016, 0.16394197, 0.22818832, 0.10230455,\n",
              "        0.26836022, 0.11698506, 0.3755765 , 0.37145399, 0.02727968],\n",
              "       [0.03163484, 0.2538993 , 0.20544257, 0.28595238, 0.12820213,\n",
              "        0.33629348, 0.14659889, 0.4706507 , 0.46548461, 0.03418531],\n",
              "       [0.00936306, 0.07514736, 0.06080547, 0.08463421, 0.03794438,\n",
              "        0.09953382, 0.04338933, 0.13929995, 0.13777092, 0.01011793],\n",
              "       [0.03973488, 0.3189098 , 0.2580458 , 0.35917001, 0.16102807,\n",
              "        0.42240087, 0.1841353 , 0.59116004, 0.58467118, 0.04293841],\n",
              "       [0.04589532, 0.36835313, 0.29805286, 0.41485522, 0.18599363,\n",
              "        0.4878893 , 0.21268337, 0.68281266, 0.67531777, 0.04959552],\n",
              "       [0.02476622, 0.19877218, 0.16083647, 0.22386583, 0.10036663,\n",
              "        0.26327677, 0.11476905, 0.36846209, 0.36441767, 0.02676293]])"
            ]
          },
          "metadata": {},
          "execution_count": 44
        }
      ]
    },
    {
      "cell_type": "code",
      "source": [
        "#98. Considering a path described by two vectors (X,Y), how to sample it using equidistant samples\n",
        "phi = np.arange(0, 10*np.pi, 0.1)\n",
        "a = 1\n",
        "x = a*phi*np.cos(phi)\n",
        "y = a*phi*np.sin(phi)\n",
        "\n",
        "dr = (np.diff(x)**2 + np.diff(y)**2)**.5 # segment lengths\n",
        "r = np.zeros_like(x)\n",
        "r[1:] = np.cumsum(dr)                # integrate path\n",
        "r_int = np.linspace(0, r.max(), 200) # regular spaced path\n",
        "x_int = np.interp(r_int, r, x)       # integrate path\n",
        "y_int = np.interp(r_int, r, y) "
      ],
      "metadata": {
        "id": "ktYegvZZDNXs"
      },
      "execution_count": 45,
      "outputs": []
    },
    {
      "cell_type": "code",
      "source": [
        "#99. Given an integer n and a 2D array X, select from X the rows which can be interpreted as draws from a multinomial distribution with n degrees, i.e., the rows which only contain integers and which sum to n.\n",
        "X = np.asarray([[1.0, 0.0, 3.0, 8.0],\n",
        "                [2.0, 0.0, 1.0, 1.0],\n",
        "                [1.5, 2.5, 1.0, 0.0]])\n",
        "n = 4\n",
        "M = np.logical_and.reduce(np.mod(X, 1) == 0, axis=-1)\n",
        "M &= (X.sum(axis=-1) == n)\n",
        "print(X[M])"
      ],
      "metadata": {
        "colab": {
          "base_uri": "https://localhost:8080/"
        },
        "id": "r1uhY9pADNa9",
        "outputId": "a1a8d632-9377-4f27-e38a-038cebd6748a"
      },
      "execution_count": 46,
      "outputs": [
        {
          "output_type": "stream",
          "name": "stdout",
          "text": [
            "[[2. 0. 1. 1.]]\n"
          ]
        }
      ]
    },
    {
      "cell_type": "code",
      "source": [
        "#100. Compute bootstrapped 95% confidence intervals for the mean of a 1D array X (i.e., resample the elements of an array with replacement N times, compute the mean of each sample, and then compute percentiles over the means). \n",
        "X = np.random.randn(100) # random 1D array\n",
        "N = 1000 # number of bootstrap samples\n",
        "idx = np.random.randint(0, X.size, (N, X.size))\n",
        "means = X[idx].mean(axis=1)\n",
        "confint = np.percentile(means, [2.5, 97.5])\n",
        "print(confint)"
      ],
      "metadata": {
        "colab": {
          "base_uri": "https://localhost:8080/"
        },
        "id": "V9QOnDz_DNdx",
        "outputId": "f01fc3d9-e91f-46cb-a17b-fe5b29fd2f9f"
      },
      "execution_count": 47,
      "outputs": [
        {
          "output_type": "stream",
          "name": "stdout",
          "text": [
            "[-0.1427282   0.23639274]\n"
          ]
        }
      ]
    }
  ]
}