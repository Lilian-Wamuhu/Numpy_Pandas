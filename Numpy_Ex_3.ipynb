{
  "nbformat": 4,
  "nbformat_minor": 0,
  "metadata": {
    "colab": {
      "provenance": [],
      "authorship_tag": "ABX9TyMShKPUiY4o45P24fes3+UG",
      "include_colab_link": true
    },
    "kernelspec": {
      "name": "python3",
      "display_name": "Python 3"
    },
    "language_info": {
      "name": "python"
    }
  },
  "cells": [
    {
      "cell_type": "markdown",
      "metadata": {
        "id": "view-in-github",
        "colab_type": "text"
      },
      "source": [
        "<a href=\"https://colab.research.google.com/github/Lilian-Wamuhu/Lilian-Wamuhu/blob/main/Numpy_Ex_3.ipynb\" target=\"_parent\"><img src=\"https://colab.research.google.com/assets/colab-badge.svg\" alt=\"Open In Colab\"/></a>"
      ]
    },
    {
      "cell_type": "code",
      "source": [
        "import numpy as np"
      ],
      "metadata": {
        "id": "1iOqIyC0d36a"
      },
      "execution_count": 1,
      "outputs": []
    },
    {
      "cell_type": "code",
      "execution_count": null,
      "metadata": {
        "colab": {
          "base_uri": "https://localhost:8080/"
        },
        "id": "TDwrVXf2czH1",
        "outputId": "2040420c-97f2-4b2f-ee8c-d8259a48e123"
      },
      "outputs": [
        {
          "output_type": "execute_result",
          "data": {
            "text/plain": [
              "{'divide': 'warn', 'over': 'warn', 'under': 'ignore', 'invalid': 'warn'}"
            ]
          },
          "metadata": {},
          "execution_count": 5
        }
      ],
      "source": [
        "#31. How to ignore all numpy warnings (not recommended)?\n",
        "np.seterr(all='ignore')"
      ]
    },
    {
      "cell_type": "code",
      "source": [
        "#32. Is the following expressions true? \n",
        "np.sqrt(-1) == np.emath.sqrt(-1)"
      ],
      "metadata": {
        "colab": {
          "base_uri": "https://localhost:8080/"
        },
        "id": "aPqvuoIoc4hk",
        "outputId": "71b6ed32-c347-4ab0-d4f9-d47147cf4db8"
      },
      "execution_count": null,
      "outputs": [
        {
          "output_type": "stream",
          "name": "stderr",
          "text": [
            "<ipython-input-3-8b72c903599c>:2: RuntimeWarning: invalid value encountered in sqrt\n",
            "  np.sqrt(-1) == np.emath.sqrt(-1)\n"
          ]
        },
        {
          "output_type": "execute_result",
          "data": {
            "text/plain": [
              "False"
            ]
          },
          "metadata": {},
          "execution_count": 3
        }
      ]
    },
    {
      "cell_type": "code",
      "source": [
        "#33. How to get the dates of yesterday, today and tomorrow?\n",
        "# for yesterday\n",
        "yesterday = np.datetime64('today', 'D') - np.timedelta64(1, 'D')\n",
        "print(\"Yesterday: \", yesterday)\n",
        "\n",
        "# for today\n",
        "today = np.datetime64('today', 'D')\n",
        "print(\"Today: \", today)\n",
        "  \n",
        "# for tomorrow\n",
        "tomorrow = np.datetime64('today', 'D') + np.timedelta64(1, 'D')\n",
        "print(\"Tomorrow: \", tomorrow)\n"
      ],
      "metadata": {
        "id": "5OmrxRO3c4kx",
        "colab": {
          "base_uri": "https://localhost:8080/"
        },
        "outputId": "f2b501ea-bab7-4698-a324-d006de4b9fea"
      },
      "execution_count": 6,
      "outputs": [
        {
          "output_type": "stream",
          "name": "stdout",
          "text": [
            "Yesterday:  2023-02-23\n",
            "Today:  2023-02-24\n",
            "Tomorrow:  2023-02-25\n"
          ]
        }
      ]
    },
    {
      "cell_type": "code",
      "source": [
        "#34. How to get all the dates corresponding to the month of July 2016?\n",
        "print(\"July, 2016\")\n",
        "print(np.arange('2016-07', '2016-08', dtype='datetime64[D]'))\n"
      ],
      "metadata": {
        "id": "hG5xjuM7c4n-",
        "colab": {
          "base_uri": "https://localhost:8080/"
        },
        "outputId": "5819eaac-5646-4dde-9e73-f96ba9ace1a4"
      },
      "execution_count": 7,
      "outputs": [
        {
          "output_type": "stream",
          "name": "stdout",
          "text": [
            "July, 2016\n",
            "['2016-07-01' '2016-07-02' '2016-07-03' '2016-07-04' '2016-07-05'\n",
            " '2016-07-06' '2016-07-07' '2016-07-08' '2016-07-09' '2016-07-10'\n",
            " '2016-07-11' '2016-07-12' '2016-07-13' '2016-07-14' '2016-07-15'\n",
            " '2016-07-16' '2016-07-17' '2016-07-18' '2016-07-19' '2016-07-20'\n",
            " '2016-07-21' '2016-07-22' '2016-07-23' '2016-07-24' '2016-07-25'\n",
            " '2016-07-26' '2016-07-27' '2016-07-28' '2016-07-29' '2016-07-30'\n",
            " '2016-07-31']\n"
          ]
        }
      ]
    },
    {
      "cell_type": "code",
      "source": [
        "#35. How to compute ((A+B)*(-A/2)) in place (without copy)?\n",
        "A = np.ones(3)*1\n",
        "B = np.ones(3)*2\n",
        "C = np.ones(3)*3\n",
        "np.add(A,B,out=B)\n",
        "np.divide(A,2,out=A)\n",
        "np.negative(A,out=A)\n",
        "np.multiply(A,B,out=A)"
      ],
      "metadata": {
        "id": "RAqV05_9c4q8",
        "colab": {
          "base_uri": "https://localhost:8080/"
        },
        "outputId": "2bc652b6-3322-4687-e10e-7877c62f15fa"
      },
      "execution_count": 8,
      "outputs": [
        {
          "output_type": "execute_result",
          "data": {
            "text/plain": [
              "array([-1.5, -1.5, -1.5])"
            ]
          },
          "metadata": {},
          "execution_count": 8
        }
      ]
    },
    {
      "cell_type": "code",
      "source": [
        "#36. Extract the integer part of a random array of positive numbers using 4 different methods\n",
        "Z = np.random.uniform(0,10,10)\n",
        "\n",
        "print(Z - Z%1)\n",
        "print(Z // 1)\n",
        "print(np.floor(Z))\n",
        "print(Z.astype(int))\n",
        "print(np.trunc(Z))\n"
      ],
      "metadata": {
        "id": "vi_dgBbfc4t1",
        "colab": {
          "base_uri": "https://localhost:8080/"
        },
        "outputId": "03baa543-9330-452e-b0a5-86f37414d74c"
      },
      "execution_count": 9,
      "outputs": [
        {
          "output_type": "stream",
          "name": "stdout",
          "text": [
            "[0. 4. 7. 8. 3. 8. 1. 9. 7. 5.]\n",
            "[0. 4. 7. 8. 3. 8. 1. 9. 7. 5.]\n",
            "[0. 4. 7. 8. 3. 8. 1. 9. 7. 5.]\n",
            "[0 4 7 8 3 8 1 9 7 5]\n",
            "[0. 4. 7. 8. 3. 8. 1. 9. 7. 5.]\n"
          ]
        }
      ]
    },
    {
      "cell_type": "code",
      "source": [
        "#37. Create a 5x5 matrix with row values ranging from 0 to 4\n",
        "Z = np.zeros((5,5))\n",
        "Z += np.arange(5)\n",
        "print(Z)"
      ],
      "metadata": {
        "id": "EBOy-Vvuc4wk",
        "colab": {
          "base_uri": "https://localhost:8080/"
        },
        "outputId": "10365fde-0b3f-425e-da49-4d4c9d6f77bd"
      },
      "execution_count": 10,
      "outputs": [
        {
          "output_type": "stream",
          "name": "stdout",
          "text": [
            "[[0. 1. 2. 3. 4.]\n",
            " [0. 1. 2. 3. 4.]\n",
            " [0. 1. 2. 3. 4.]\n",
            " [0. 1. 2. 3. 4.]\n",
            " [0. 1. 2. 3. 4.]]\n"
          ]
        }
      ]
    },
    {
      "cell_type": "code",
      "source": [
        "#38. Consider a generator function that generates 10 integers and use it to build an array\n",
        "def generate():\n",
        "    for x in range(10):\n",
        "        yield x\n",
        "Z = np.fromiter(generate(),dtype=float,count=-1)\n",
        "print(Z)"
      ],
      "metadata": {
        "id": "mhrqn_xzc4zu",
        "colab": {
          "base_uri": "https://localhost:8080/"
        },
        "outputId": "e1def8c8-c769-45c9-b046-937425dd6412"
      },
      "execution_count": 11,
      "outputs": [
        {
          "output_type": "stream",
          "name": "stdout",
          "text": [
            "[0. 1. 2. 3. 4. 5. 6. 7. 8. 9.]\n"
          ]
        }
      ]
    },
    {
      "cell_type": "code",
      "source": [
        "#39. Create a vector of size 10 with values ranging from 0 to 1, both excluded\n",
        "Z = np.linspace(0,1,11,endpoint=False)[1:]\n",
        "print(Z)"
      ],
      "metadata": {
        "id": "BV4bctAdc42S",
        "colab": {
          "base_uri": "https://localhost:8080/"
        },
        "outputId": "b842d990-48ad-408e-be80-cff9dcfdf656"
      },
      "execution_count": 15,
      "outputs": [
        {
          "output_type": "stream",
          "name": "stdout",
          "text": [
            "[0.09090909 0.18181818 0.27272727 0.36363636 0.45454545 0.54545455\n",
            " 0.63636364 0.72727273 0.81818182 0.90909091]\n"
          ]
        }
      ]
    },
    {
      "cell_type": "code",
      "source": [
        "#40. Create a random vector of size 10 and sort it \n",
        "Z = np.random.rand(10)\n",
        "Z = np.sort(Z)\n",
        "Z"
      ],
      "metadata": {
        "id": "hql9moMec45L",
        "colab": {
          "base_uri": "https://localhost:8080/"
        },
        "outputId": "05239a99-6176-4dc3-c980-197613b49b85"
      },
      "execution_count": 14,
      "outputs": [
        {
          "output_type": "execute_result",
          "data": {
            "text/plain": [
              "array([0.09889396, 0.25416892, 0.30811687, 0.49344944, 0.57639668,\n",
              "       0.66531256, 0.67959391, 0.71384333, 0.75567416, 0.95487925])"
            ]
          },
          "metadata": {},
          "execution_count": 14
        }
      ]
    },
    {
      "cell_type": "code",
      "source": [
        "#41. How to sum a small array faster than np.sum?\n",
        "Z = np.arange(10)\n",
        "np.add.reduce(Z)"
      ],
      "metadata": {
        "id": "q5sbrRXac479",
        "colab": {
          "base_uri": "https://localhost:8080/"
        },
        "outputId": "a7153805-7bad-4b31-fc57-181b6322201c"
      },
      "execution_count": 16,
      "outputs": [
        {
          "output_type": "execute_result",
          "data": {
            "text/plain": [
              "45"
            ]
          },
          "metadata": {},
          "execution_count": 16
        }
      ]
    },
    {
      "cell_type": "code",
      "source": [
        "#42. Consider two random array A and B, check if they are equal \n",
        "A = np.random.rand(0,2,5)\n",
        "B = np.random.rand(0,2,5)\n",
        "\n",
        "equal = np.allclose(A,B)\n",
        "print(equal)\n",
        "\n",
        "equal = np.array_equal(A,B)\n",
        "print(equal)"
      ],
      "metadata": {
        "id": "6KT32hNlc4-8",
        "colab": {
          "base_uri": "https://localhost:8080/"
        },
        "outputId": "68bd9c4b-eec8-4887-c742-5cfeaab83d82"
      },
      "execution_count": 17,
      "outputs": [
        {
          "output_type": "stream",
          "name": "stdout",
          "text": [
            "True\n",
            "True\n"
          ]
        }
      ]
    },
    {
      "cell_type": "code",
      "source": [
        "#43. Make an array immutable (read-only) \n",
        "Z = np.zeros(10)\n",
        "Z.flags.writeable = False\n",
        "Z[0] = 1"
      ],
      "metadata": {
        "id": "wYj3BV4Qc5B7",
        "colab": {
          "base_uri": "https://localhost:8080/",
          "height": 200
        },
        "outputId": "a652de16-baf9-4e33-9beb-439c06a0e1a9"
      },
      "execution_count": 19,
      "outputs": [
        {
          "output_type": "error",
          "ename": "ValueError",
          "evalue": "ignored",
          "traceback": [
            "\u001b[0;31m---------------------------------------------------------------------------\u001b[0m",
            "\u001b[0;31mValueError\u001b[0m                                Traceback (most recent call last)",
            "\u001b[0;32m<ipython-input-19-64a47f1d01a2>\u001b[0m in \u001b[0;36m<module>\u001b[0;34m\u001b[0m\n\u001b[1;32m      2\u001b[0m \u001b[0mZ\u001b[0m \u001b[0;34m=\u001b[0m \u001b[0mnp\u001b[0m\u001b[0;34m.\u001b[0m\u001b[0mzeros\u001b[0m\u001b[0;34m(\u001b[0m\u001b[0;36m10\u001b[0m\u001b[0;34m)\u001b[0m\u001b[0;34m\u001b[0m\u001b[0;34m\u001b[0m\u001b[0m\n\u001b[1;32m      3\u001b[0m \u001b[0mZ\u001b[0m\u001b[0;34m.\u001b[0m\u001b[0mflags\u001b[0m\u001b[0;34m.\u001b[0m\u001b[0mwriteable\u001b[0m \u001b[0;34m=\u001b[0m \u001b[0;32mFalse\u001b[0m\u001b[0;34m\u001b[0m\u001b[0;34m\u001b[0m\u001b[0m\n\u001b[0;32m----> 4\u001b[0;31m \u001b[0mZ\u001b[0m\u001b[0;34m[\u001b[0m\u001b[0;36m0\u001b[0m\u001b[0;34m]\u001b[0m \u001b[0;34m=\u001b[0m \u001b[0;36m1\u001b[0m\u001b[0;34m\u001b[0m\u001b[0;34m\u001b[0m\u001b[0m\n\u001b[0m",
            "\u001b[0;31mValueError\u001b[0m: assignment destination is read-only"
          ]
        }
      ]
    },
    {
      "cell_type": "code",
      "source": [
        "#44. Consider a random 10x2 matrix representing cartesian coordinates, convert them to polar coordinates\n",
        "Z = np.random.random((10,2))\n",
        "X,Y = Z[:,0], Z[:,1]\n",
        "R = np.sqrt(X**2+Y**2)\n",
        "T = np.arctan2(Y,X)\n",
        "print(R)\n",
        "print(T)\n"
      ],
      "metadata": {
        "id": "eZW4EVjFc5Ey",
        "colab": {
          "base_uri": "https://localhost:8080/"
        },
        "outputId": "4b4d769c-c6f5-4ce6-d35e-8293454c15ca"
      },
      "execution_count": 20,
      "outputs": [
        {
          "output_type": "stream",
          "name": "stdout",
          "text": [
            "[0.46252537 0.86656835 1.00492116 0.48670125 1.40749136 0.50353621\n",
            " 0.97000129 0.9818281  0.91663006 0.37542864]\n",
            "[0.19430064 0.31380731 0.70327673 1.44266367 0.78879769 0.74642022\n",
            " 0.93009569 1.49980182 1.46282091 1.5204256 ]\n"
          ]
        }
      ]
    },
    {
      "cell_type": "code",
      "source": [
        "#45. Create random vector of size 10 and replace the maximum value by 0\n",
        "Z = np.random.rand(10)\n",
        "Z[Z.argmax()] = 0\n",
        "print(Z)"
      ],
      "metadata": {
        "id": "y6QojAJ_c5HZ",
        "colab": {
          "base_uri": "https://localhost:8080/"
        },
        "outputId": "6a27ccff-d267-4e70-ad93-29c269ffb39e"
      },
      "execution_count": 22,
      "outputs": [
        {
          "output_type": "stream",
          "name": "stdout",
          "text": [
            "[0.59252588 0.42195981 0.19855808 0.72646085 0.         0.58040407\n",
            " 0.70413126 0.32898361 0.53333012 0.14669775]\n"
          ]
        }
      ]
    }
  ]
}