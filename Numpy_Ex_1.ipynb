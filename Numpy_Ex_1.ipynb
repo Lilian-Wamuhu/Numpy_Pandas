{
  "nbformat": 4,
  "nbformat_minor": 0,
  "metadata": {
    "colab": {
      "provenance": [],
      "authorship_tag": "ABX9TyOcKLuLHXTwReHx/fJStMES",
      "include_colab_link": true
    },
    "kernelspec": {
      "name": "python3",
      "display_name": "Python 3"
    },
    "language_info": {
      "name": "python"
    }
  },
  "cells": [
    {
      "cell_type": "markdown",
      "metadata": {
        "id": "view-in-github",
        "colab_type": "text"
      },
      "source": [
        "<a href=\"https://colab.research.google.com/github/Lilian-Wamuhu/Lilian-Wamuhu/blob/main/Numpy_Ex_1.ipynb\" target=\"_parent\"><img src=\"https://colab.research.google.com/assets/colab-badge.svg\" alt=\"Open In Colab\"/></a>"
      ]
    },
    {
      "cell_type": "code",
      "execution_count": 65,
      "metadata": {
        "id": "JvFz0oUSgpye"
      },
      "outputs": [],
      "source": [
        "#Import the numpy package under the name np\n",
        "import numpy as np"
      ]
    },
    {
      "cell_type": "code",
      "source": [
        "#Print the numpy version and the configuration\n",
        "print(np.__version__)\n",
        "np.__config__.show()"
      ],
      "metadata": {
        "id": "RVQqjCYED-7D"
      },
      "execution_count": null,
      "outputs": []
    },
    {
      "cell_type": "code",
      "source": [
        "# Create a null vector of size 10\n",
        "a = np.zeros(10, dtype=int)\n",
        "a"
      ],
      "metadata": {
        "id": "_l3Dc6gsmIul"
      },
      "execution_count": null,
      "outputs": []
    },
    {
      "cell_type": "code",
      "source": [
        "#How to find the memory size of any array\n",
        "np.size(a)"
      ],
      "metadata": {
        "id": "VpeaK1chm81M"
      },
      "execution_count": null,
      "outputs": []
    },
    {
      "cell_type": "code",
      "source": [
        "#How to get the documentation of the numpy add function from the command line? \n",
        "python -c \"import numpy; numpy.info(numpy.add)\"\n"
      ],
      "metadata": {
        "id": "kyO-HU5_napC"
      },
      "execution_count": null,
      "outputs": []
    },
    {
      "cell_type": "code",
      "source": [
        "#Create a null vector of size 10 but the fifth value which is 1\n",
        "z = np.zeros(10, dtype=int)\n",
        "z[5] = 1\n",
        "z"
      ],
      "metadata": {
        "id": "CIwdUIfZoNSQ"
      },
      "execution_count": null,
      "outputs": []
    },
    {
      "cell_type": "code",
      "source": [
        "#Create a vector with values ranging from 10 to 49\n",
        "y = np.arange(10,49)\n",
        "y"
      ],
      "metadata": {
        "id": "4eSs_4rfpFc6"
      },
      "execution_count": null,
      "outputs": []
    },
    {
      "cell_type": "code",
      "source": [
        "#Reverse a vector (first element becomes last)\n",
        "y[::-1]"
      ],
      "metadata": {
        "id": "w2UcAl2JpkHP"
      },
      "execution_count": null,
      "outputs": []
    },
    {
      "cell_type": "code",
      "source": [
        "#Create a 3x3 matrix with values ranging from 0 to 8\n",
        "c = np.arange(0, 9).reshape(3,3)\n",
        "print(c)"
      ],
      "metadata": {
        "id": "NvAuJlYFqvzr",
        "colab": {
          "base_uri": "https://localhost:8080/"
        },
        "outputId": "2d90a728-97ce-4cf4-a074-b72b19de9cb2"
      },
      "execution_count": 63,
      "outputs": [
        {
          "output_type": "stream",
          "name": "stdout",
          "text": [
            "[[0 1 2]\n",
            " [3 4 5]\n",
            " [6 7 8]]\n"
          ]
        }
      ]
    },
    {
      "cell_type": "code",
      "source": [
        "#Find indices of non-zero elements from [1,2,0,0,4,0]\n",
        "d = np.nonzero([1,2,0,0,4,0])\n",
        "d"
      ],
      "metadata": {
        "id": "7KqcLHEWJHyv"
      },
      "execution_count": null,
      "outputs": []
    },
    {
      "cell_type": "code",
      "source": [
        "# Create a 3x3 identity matrix \n",
        "e = np.identity(3)\n",
        "e"
      ],
      "metadata": {
        "id": "Ro2YuCIHJH8o"
      },
      "execution_count": null,
      "outputs": []
    },
    {
      "cell_type": "code",
      "source": [
        "#Create a 3x3x3 array with random values \n",
        "f = np.random.rand(3,3,3)\n",
        "f"
      ],
      "metadata": {
        "id": "gm926RUhJIEs"
      },
      "execution_count": null,
      "outputs": []
    },
    {
      "cell_type": "code",
      "source": [
        "#Create a 10x10 array with random values and find the minimum and maximum values\n",
        "g = np.random.rand(10,10)\n",
        "g"
      ],
      "metadata": {
        "id": "s_5WkY8yJIIQ"
      },
      "execution_count": null,
      "outputs": []
    },
    {
      "cell_type": "code",
      "source": [
        "min = np.min(g)\n",
        "min"
      ],
      "metadata": {
        "id": "JWIJu6Bz_Wd6"
      },
      "execution_count": null,
      "outputs": []
    },
    {
      "cell_type": "code",
      "source": [
        "max = np.max(g)\n",
        "max"
      ],
      "metadata": {
        "id": "Arix2cVy_Wlr"
      },
      "execution_count": null,
      "outputs": []
    },
    {
      "cell_type": "code",
      "source": [
        "#Create a random vector of size 30 and find the mean value\n",
        "h = np.random.rand(30)\n",
        "mean = np.mean(h)\n",
        "mean"
      ],
      "metadata": {
        "id": "UqS5vGKxJIMi",
        "colab": {
          "base_uri": "https://localhost:8080/"
        },
        "outputId": "c4ee3a73-628b-49bd-aa16-ba5690bf6fd8"
      },
      "execution_count": 38,
      "outputs": [
        {
          "output_type": "execute_result",
          "data": {
            "text/plain": [
              "0.4197016157176572"
            ]
          },
          "metadata": {},
          "execution_count": 38
        }
      ]
    },
    {
      "cell_type": "code",
      "source": [
        "#Create a 2d array with 1 on the border and 0 inside\n",
        "i = np.ones((5,5))\n",
        "i"
      ],
      "metadata": {
        "id": "xxqtYXKQJIP5"
      },
      "execution_count": null,
      "outputs": []
    },
    {
      "cell_type": "code",
      "source": [
        "i[1:-1,1:-1]=0\n",
        "i"
      ],
      "metadata": {
        "id": "J2F9ijBQCuoP"
      },
      "execution_count": null,
      "outputs": []
    },
    {
      "cell_type": "code",
      "source": [
        "i[1:3,1:3]\n",
        "i"
      ],
      "metadata": {
        "id": "bFJY6dRpDJt0"
      },
      "execution_count": null,
      "outputs": []
    }
  ]
}